{
 "cells": [
  {
   "cell_type": "code",
   "execution_count": 1,
   "metadata": {},
   "outputs": [
    {
     "name": "stdout",
     "output_type": "stream",
     "text": [
      "5.0\n"
     ]
    }
   ],
   "source": [
    "#a\n",
    "import math\n",
    "a = int(input(\"Enter a first side: \"))\n",
    "b = int(input(\"Enter a second side: \"))\n",
    "print(math.sqrt(a*a+b*b))"
   ]
  },
  {
   "cell_type": "code",
   "execution_count": 2,
   "metadata": {},
   "outputs": [
    {
     "name": "stdout",
     "output_type": "stream",
     "text": [
      "The next number for the number 50 is 51.\n",
      "The previous number for the number 50 is 49.\n"
     ]
    }
   ],
   "source": [
    "#b\n",
    "a = int(input(\"Enter a number: \"))\n",
    "str = \"The next number for the number {} is {}.\\nThe previous number for the number {} is {}.\"\n",
    "print(str.format(a, a+1, a, a-1))"
   ]
  },
  {
   "cell_type": "code",
   "execution_count": 16,
   "metadata": {},
   "outputs": [
    {
     "name": "stdout",
     "output_type": "stream",
     "text": [
      "4\n"
     ]
    }
   ],
   "source": [
    "#c\n",
    "a = int(input(\"Shkolniki: \"))\n",
    "b = int(input(\"Apples: \"))\n",
    "print(b//a)"
   ]
  },
  {
   "cell_type": "code",
   "execution_count": 15,
   "metadata": {},
   "outputs": [
    {
     "name": "stdout",
     "output_type": "stream",
     "text": [
      "2\n"
     ]
    }
   ],
   "source": [
    "#d\n",
    "a = int(input(\"Shkolniki: \"))\n",
    "b = int(input(\"Apples: \"))\n",
    "print(b%a)"
   ]
  },
  {
   "cell_type": "code",
   "execution_count": null,
   "metadata": {},
   "outputs": [],
   "source": [
    "#e\n"
   ]
  }
 ],
 "metadata": {
  "kernelspec": {
   "display_name": "Python 3",
   "language": "python",
   "name": "python3"
  },
  "language_info": {
   "codemirror_mode": {
    "name": "ipython",
    "version": 3
   },
   "file_extension": ".py",
   "mimetype": "text/x-python",
   "name": "python",
   "nbconvert_exporter": "python",
   "pygments_lexer": "ipython3",
   "version": "3.10.9"
  }
 },
 "nbformat": 4,
 "nbformat_minor": 2
}
