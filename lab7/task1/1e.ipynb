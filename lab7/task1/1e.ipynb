{
 "cells": [
  {
   "cell_type": "code",
   "execution_count": null,
   "metadata": {},
   "outputs": [],
   "source": [
    "#a\n",
    "def min (a,b, c,d):\n",
    "    min_val = a\n",
    "    if b < min_val:\n",
    "        min_val = b\n",
    "    if c < min_val:\n",
    "        min_val = c\n",
    "    if d < min_val:\n",
    "        min_val = d\n",
    "    return min_val\n",
    "\n",
    "a, b, c, d = map(int, input().split())\n",
    "\n",
    "print(min(a, b, c, d))"
   ]
  },
  {
   "cell_type": "code",
   "execution_count": 3,
   "metadata": {},
   "outputs": [
    {
     "name": "stdout",
     "output_type": "stream",
     "text": [
      "8\n"
     ]
    }
   ],
   "source": [
    "#b\n",
    "def power(a, n):\n",
    "    print(a**n)\n",
    "\n",
    "a=int(input())\n",
    "n=int(input())\n",
    "power(a,n)"
   ]
  },
  {
   "cell_type": "code",
   "execution_count": 6,
   "metadata": {},
   "outputs": [
    {
     "name": "stdout",
     "output_type": "stream",
     "text": [
      "1\n"
     ]
    }
   ],
   "source": [
    "#c\n",
    "def xor(a, b):\n",
    "    print(a or b) and not (a and b)\n",
    "\n",
    "a=int(input())\n",
    "b=int(input())\n",
    "xor(a,b)"
   ]
  }
 ],
 "metadata": {
  "kernelspec": {
   "display_name": "Python 3",
   "language": "python",
   "name": "python3"
  },
  "language_info": {
   "codemirror_mode": {
    "name": "ipython",
    "version": 3
   },
   "file_extension": ".py",
   "mimetype": "text/x-python",
   "name": "python",
   "nbconvert_exporter": "python",
   "pygments_lexer": "ipython3",
   "version": "3.10.9"
  }
 },
 "nbformat": 4,
 "nbformat_minor": 2
}
