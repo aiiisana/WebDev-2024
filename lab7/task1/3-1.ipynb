{
 "cells": [
  {
   "cell_type": "code",
   "execution_count": null,
   "metadata": {},
   "outputs": [],
   "source": [
    "#a\n",
    "def sleep_in(weekday, vacation):\n",
    "  return(not weekday or vacation)"
   ]
  },
  {
   "cell_type": "code",
   "execution_count": null,
   "metadata": {},
   "outputs": [],
   "source": [
    "#b\n",
    "def monkey_trouble(a_smile, b_smile):\n",
    "   return(a_smile == b_smile)"
   ]
  },
  {
   "cell_type": "code",
   "execution_count": 6,
   "metadata": {},
   "outputs": [
    {
     "name": "stdout",
     "output_type": "stream",
     "text": [
      "5\n"
     ]
    }
   ],
   "source": [
    "#c\n",
    "def sum_double(a, b):\n",
    "    if a== b: return (a+b)*2\n",
    "    else: return(a+b)\n",
    "\n",
    "print(sum_double(2, 3))"
   ]
  },
  {
   "cell_type": "code",
   "execution_count": null,
   "metadata": {},
   "outputs": [],
   "source": [
    "#d\n",
    "def diff21(n):\n",
    "  if n <= 21:\n",
    "    return 21 - n\n",
    "  else:\n",
    "    return (n - 21) * 2"
   ]
  },
  {
   "cell_type": "code",
   "execution_count": null,
   "metadata": {},
   "outputs": [],
   "source": [
    "#e\n",
    "def parrot_trouble(talking, hour):\n",
    "  return (talking and (hour < 7 or hour > 20))"
   ]
  },
  {
   "cell_type": "code",
   "execution_count": null,
   "metadata": {},
   "outputs": [],
   "source": [
    "#f\n",
    "def makes10(a, b):\n",
    "    return (a == 10 or b == 10 or a+b == 10)"
   ]
  },
  {
   "cell_type": "code",
   "execution_count": null,
   "metadata": {},
   "outputs": [],
   "source": [
    "#g\n",
    "def near_hundred(n):\n",
    "    return ((abs(100 - n) <= 10) or (abs(200 - n) <= 10))"
   ]
  },
  {
   "cell_type": "code",
   "execution_count": null,
   "metadata": {},
   "outputs": [],
   "source": [
    "#h\n",
    "def pos_neg(a, b, negative):\n",
    "    if negative:\n",
    "        return (a < 0 and b < 0)\n",
    "    else:\n",
    "        return ((a < 0 and b > 0) or (a > 0 and b < 0))"
   ]
  },
  {
   "cell_type": "code",
   "execution_count": null,
   "metadata": {},
   "outputs": [],
   "source": [
    "#i\n",
    "def not_string(str):\n",
    "    if len(str) >= 3 and str[:3] == \"not\":\n",
    "        return str\n",
    "    return \"not \" + str"
   ]
  },
  {
   "cell_type": "code",
   "execution_count": null,
   "metadata": {},
   "outputs": [],
   "source": [
    "#j\n",
    "def missing_char(str, n):\n",
    "    front = str[:n]\n",
    "    back = str[n+1:]\n",
    "    return front + back"
   ]
  },
  {
   "cell_type": "code",
   "execution_count": null,
   "metadata": {},
   "outputs": [],
   "source": [
    "#k\n",
    "def front_back(str):\n",
    "    if len(str) <= 1:\n",
    "        return str\n",
    "    mid = str[1:-1]\n",
    "    return str[len(str)-1] + mid + str[0]"
   ]
  },
  {
   "cell_type": "code",
   "execution_count": null,
   "metadata": {},
   "outputs": [],
   "source": [
    "#l\n",
    "def front3(str):\n",
    "    front_end = 3\n",
    "    if len(str) < front_end:\n",
    "        front_end = len(str)\n",
    "    front = str[:front_end]\n",
    "    return front *3"
   ]
  }
 ],
 "metadata": {
  "kernelspec": {
   "display_name": "Python 3",
   "language": "python",
   "name": "python3"
  },
  "language_info": {
   "codemirror_mode": {
    "name": "ipython",
    "version": 3
   },
   "file_extension": ".py",
   "mimetype": "text/x-python",
   "name": "python",
   "nbconvert_exporter": "python",
   "pygments_lexer": "ipython3",
   "version": "3.10.9"
  }
 },
 "nbformat": 4,
 "nbformat_minor": 2
}
