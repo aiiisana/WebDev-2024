{
 "cells": [
  {
   "cell_type": "code",
   "execution_count": 1,
   "metadata": {},
   "outputs": [
    {
     "name": "stdout",
     "output_type": "stream",
     "text": [
      "hihihi\n"
     ]
    }
   ],
   "source": [
    "#1\n",
    "def string_times(str, n):\n",
    "    return str * n\n",
    "print(string_times(\"hi\", 3))"
   ]
  },
  {
   "cell_type": "code",
   "execution_count": 12,
   "metadata": {},
   "outputs": [
    {
     "name": "stdout",
     "output_type": "stream",
     "text": [
      "hiqhiqhiq\n"
     ]
    }
   ],
   "source": [
    "#2\n",
    "def front_times(str, n):\n",
    "    return str[:3]*n\n",
    "\n",
    "print(front_times(\"hiqwjifseiojfw\", 3))"
   ]
  },
  {
   "cell_type": "code",
   "execution_count": null,
   "metadata": {},
   "outputs": [],
   "source": [
    "#3\n",
    "def string_bits(str):\n",
    "    result = \"\"\n",
    "    for i in range(len(str)):\n",
    "        if i % 2 == 0:\n",
    "            result = result + str[i]\n",
    "    return result\n"
   ]
  },
  {
   "cell_type": "code",
   "execution_count": null,
   "metadata": {},
   "outputs": [],
   "source": [
    "#4\n",
    "def string_splosion(str):\n",
    "    result = \"\"\n",
    "    for i in range(len(str)):\n",
    "        result = result + str[:i+1]\n",
    "    return result"
   ]
  },
  {
   "cell_type": "code",
   "execution_count": null,
   "metadata": {},
   "outputs": [],
   "source": [
    "#5\n",
    "def last2(str):\n",
    "    if len(str) < 2:\n",
    "        return 0\n",
    "    \n",
    "    last2 = str[len(str)-2:]\n",
    "    count = 0\n",
    "    \n",
    "    for i in range(len(str)-2):\n",
    "        sub = str[i:i+2]\n",
    "        if sub == last2:\n",
    "            count = count + 1\n",
    "\n",
    "    return count"
   ]
  },
  {
   "cell_type": "code",
   "execution_count": null,
   "metadata": {},
   "outputs": [],
   "source": [
    "#6\n",
    "def array_count9(nums):\n",
    "    cnt= 0\n",
    "    for i in nums:\n",
    "        if nums[i] == 9: cnt+=1\n",
    "    return cnt"
   ]
  },
  {
   "cell_type": "code",
   "execution_count": null,
   "metadata": {},
   "outputs": [],
   "source": [
    "#7\n",
    "def array_front9(nums):\n",
    "    end = len(nums)\n",
    "    if end > 4:\n",
    "        end = 4\n",
    "    \n",
    "    for i in range(end):\n",
    "        if nums[i] == 9:\n",
    "            return True\n",
    "    return False"
   ]
  },
  {
   "cell_type": "code",
   "execution_count": null,
   "metadata": {},
   "outputs": [],
   "source": [
    "#8\n",
    "def array123(nums):\n",
    "    for i in range(len(nums)-2):\n",
    "        if nums[i]==1 and nums[i+1]==2 and nums[i+2]==3:\n",
    "            return True\n",
    "    return False"
   ]
  },
  {
   "cell_type": "code",
   "execution_count": null,
   "metadata": {},
   "outputs": [],
   "source": [
    "#9\n",
    "def string_match(a, b):\n",
    "    shorter = min(len(a), len(b))\n",
    "    count = 0\n",
    "    \n",
    "    for i in range(shorter-1):\n",
    "        a_sub = a[i:i+2]\n",
    "        b_sub = b[i:i+2]\n",
    "        if a_sub == b_sub:\n",
    "            count = count + 1\n",
    "\n",
    "    return count"
   ]
  }
 ],
 "metadata": {
  "kernelspec": {
   "display_name": "Python 3",
   "language": "python",
   "name": "python3"
  },
  "language_info": {
   "codemirror_mode": {
    "name": "ipython",
    "version": 3
   },
   "file_extension": ".py",
   "mimetype": "text/x-python",
   "name": "python",
   "nbconvert_exporter": "python",
   "pygments_lexer": "ipython3",
   "version": "3.10.9"
  }
 },
 "nbformat": 4,
 "nbformat_minor": 2
}
