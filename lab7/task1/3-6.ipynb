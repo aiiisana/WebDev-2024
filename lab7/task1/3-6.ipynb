{
 "cells": [
  {
   "cell_type": "code",
   "execution_count": null,
   "metadata": {},
   "outputs": [],
   "source": [
    "def make_bricks(small, big, goal):\n",
    "    return goal % 5 <= small and goal - big * 5 <= small"
   ]
  },
  {
   "cell_type": "code",
   "execution_count": null,
   "metadata": {},
   "outputs": [],
   "source": [
    "def lone_sum(a, b, c):\n",
    "    if a == b == c:\n",
    "        return 0\n",
    "    elif a == b:\n",
    "        return c\n",
    "    elif a == c:\n",
    "        return b\n",
    "    elif b == c:\n",
    "        return a\n",
    "    else:\n",
    "        return a + b + c"
   ]
  },
  {
   "cell_type": "code",
   "execution_count": null,
   "metadata": {},
   "outputs": [],
   "source": [
    "def lucky_sum(a, b, c):\n",
    "    if a == 13:\n",
    "        return 0\n",
    "    elif b == 13:\n",
    "        return a\n",
    "    elif c == 13:\n",
    "        return a + b\n",
    "    else:\n",
    "        return a + b + c"
   ]
  },
  {
   "cell_type": "code",
   "execution_count": null,
   "metadata": {},
   "outputs": [],
   "source": [
    "def fix_teen(n):\n",
    "    return 0 if 13 <= n <= 19 and n not in [15, 16] else n\n",
    "\n",
    "def no_teen_sum(a, b, c):\n",
    "    return fix_teen(a) + fix_teen(b) + fix_teen(c)"
   ]
  },
  {
   "cell_type": "code",
   "execution_count": null,
   "metadata": {},
   "outputs": [],
   "source": [
    "def round10(num):\n",
    "    return (num + 5) // 10 * 10\n",
    "\n",
    "def round_sum(a, b, c):\n",
    "    return round10(a) + round10(b) + round10(c)"
   ]
  },
  {
   "cell_type": "code",
   "execution_count": null,
   "metadata": {},
   "outputs": [],
   "source": [
    "def close_far(a, b, c):\n",
    "    if abs(a - b) <= 1 and abs(a - c) >= 2 and abs(b - c) >= 2:\n",
    "        return True\n",
    "    elif abs(a - c) <= 1 and abs(a - b) >= 2 and abs(b - c) >= 2:\n",
    "        return True\n",
    "    return False"
   ]
  },
  {
   "cell_type": "code",
   "execution_count": null,
   "metadata": {},
   "outputs": [],
   "source": [
    "def make_chocolate(small, big, goal):\n",
    "    max_big = min(big, goal // 5)\n",
    "    remaining = goal - max_big * 5\n",
    "    if remaining <= small:\n",
    "        return remaining\n",
    "    return -1"
   ]
  }
 ],
 "metadata": {
  "language_info": {
   "name": "python"
  }
 },
 "nbformat": 4,
 "nbformat_minor": 2
}
