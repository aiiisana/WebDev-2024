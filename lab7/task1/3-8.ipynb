{
 "cells": [
  {
   "cell_type": "code",
   "execution_count": null,
   "metadata": {},
   "outputs": [],
   "source": [
    "def count_evens(nums):\n",
    "    cnt = 0\n",
    "    for num in nums:\n",
    "        if num %2 ==0: cnt+=1\n",
    "    return cnt"
   ]
  },
  {
   "cell_type": "code",
   "execution_count": null,
   "metadata": {},
   "outputs": [],
   "source": [
    "def big_diff(nums):\n",
    "    return max(nums) - min(nums)"
   ]
  },
  {
   "cell_type": "code",
   "execution_count": null,
   "metadata": {},
   "outputs": [],
   "source": [
    "def centered_average(nums):\n",
    "    nums.sort()\n",
    "    return sum(nums[1:-1]) // (len(nums) - 2)"
   ]
  },
  {
   "cell_type": "code",
   "execution_count": null,
   "metadata": {},
   "outputs": [],
   "source": [
    "def sum13(nums):\n",
    "    total = 0\n",
    "    i = 0\n",
    "    while i < len(nums):\n",
    "        if nums[i] == 13:\n",
    "            i += 2\n",
    "            continue\n",
    "        total += nums[i]\n",
    "        i += 1\n",
    "    return total"
   ]
  },
  {
   "cell_type": "code",
   "execution_count": null,
   "metadata": {},
   "outputs": [],
   "source": [
    "def sum67(nums):\n",
    "    total = 0\n",
    "    skip = False\n",
    "    for num in nums:\n",
    "        if num == 6:\n",
    "            skip = True\n",
    "            continue\n",
    "        elif skip and num == 7:\n",
    "            skip = False\n",
    "            continue\n",
    "        elif not skip:\n",
    "            total += num\n",
    "    return total"
   ]
  },
  {
   "cell_type": "code",
   "execution_count": null,
   "metadata": {},
   "outputs": [],
   "source": [
    "def has22(nums):\n",
    "    for i in range(len(nums) - 1):\n",
    "        if nums[i] == 2 and nums[i + 1] == 2:\n",
    "            return True\n",
    "    return False"
   ]
  }
 ],
 "metadata": {
  "language_info": {
   "name": "python"
  }
 },
 "nbformat": 4,
 "nbformat_minor": 2
}
